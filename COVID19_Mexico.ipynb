{
 "cells": [
  {
   "cell_type": "markdown",
   "metadata": {},
   "source": [
    "### Análisis de datos COVID19"
   ]
  },
  {
   "cell_type": "code",
   "execution_count": 69,
   "metadata": {},
   "outputs": [],
   "source": [
    "import pandas as pd\n",
    "import matplotlib.pyplot as plt\n",
    "import numpy as np\n",
    "%matplotlib inline"
   ]
  },
  {
   "cell_type": "code",
   "execution_count": 70,
   "metadata": {},
   "outputs": [],
   "source": [
    "plt.style.use('dark_background')"
   ]
  },
  {
   "cell_type": "code",
   "execution_count": 71,
   "metadata": {},
   "outputs": [
    {
     "name": "stderr",
     "output_type": "stream",
     "text": [
      "/home/a_tellez/virtualenvs/python3/lib/python3.6/site-packages/IPython/core/interactiveshell.py:3049: DtypeWarning: Columns (35) have mixed types. Specify dtype option on import or set low_memory=False.\n",
      "  interactivity=interactivity, compiler=compiler, result=result)\n"
     ]
    }
   ],
   "source": [
    "df = pd.read_csv(\"data/Datos_COVID_17_09.csv\", encoding = \"latin1\",parse_dates = [\"FECHA_INGRESO\",\"FECHA_SINTOMAS\"])"
   ]
  },
  {
   "cell_type": "code",
   "execution_count": 72,
   "metadata": {},
   "outputs": [
    {
     "name": "stdout",
     "output_type": "stream",
     "text": [
      "<class 'pandas.core.frame.DataFrame'>\n",
      "RangeIndex: 1549643 entries, 0 to 1549642\n",
      "Data columns (total 40 columns):\n",
      "Unnamed: 0             1549643 non-null int64\n",
      "UCI                    1549643 non-null object\n",
      "MIGRANTE               1549643 non-null object\n",
      "RESULTADO              1549643 non-null object\n",
      "OTRO_CASO              1549643 non-null object\n",
      "TABAQUISMO             1549643 non-null object\n",
      "RENAL_CRONICA          1549643 non-null object\n",
      "OBESIDAD               1549643 non-null object\n",
      "CARDIOVASCULAR         1549643 non-null object\n",
      "OTRAS_COM              1549643 non-null object\n",
      "HIPERTENSION           1549643 non-null object\n",
      "INMUSUPR               1549643 non-null object\n",
      "ASMA                   1549643 non-null object\n",
      "EPOC                   1549643 non-null object\n",
      "DIABETES               1549643 non-null object\n",
      "HABLA_LENGUA_INDIG     1549643 non-null object\n",
      "EMBARAZO               1549643 non-null object\n",
      "NACIONALIDAD           1549643 non-null object\n",
      "NEUMONIA               1549643 non-null object\n",
      "INTUBADO               1549643 non-null object\n",
      "TIPO_PACIENTE          1549643 non-null object\n",
      "MUNICIPIO_RES          1549635 non-null object\n",
      "ENTIDAD_RES            1549643 non-null object\n",
      "ENTIDAD_NAC            1549643 non-null object\n",
      "SEXO                   1549643 non-null object\n",
      "ENTIDAD_UM             1549643 non-null object\n",
      "SECTOR                 1549643 non-null object\n",
      "ORIGEN                 1549643 non-null object\n",
      "FECHA_ACTUALIZACION    1549643 non-null object\n",
      "ID_REGISTRO            1549643 non-null object\n",
      "FECHA_INGRESO          1549643 non-null datetime64[ns]\n",
      "FECHA_SINTOMAS         1549643 non-null datetime64[ns]\n",
      "FECHA_DEF              1549643 non-null object\n",
      "EDAD                   1549643 non-null int64\n",
      "PAIS_NACIONALIDAD      1549643 non-null object\n",
      "PAIS_ORIGEN            1549643 non-null object\n",
      "ABREVIATURA.x          1549643 non-null object\n",
      "ABREVIATURA.y          1549643 non-null object\n",
      "ABREVIATURA            1549643 non-null object\n",
      "CLAVE_ENTIDAD          1549635 non-null float64\n",
      "dtypes: datetime64[ns](2), float64(1), int64(2), object(35)\n",
      "memory usage: 472.9+ MB\n"
     ]
    }
   ],
   "source": [
    "df.info()"
   ]
  },
  {
   "cell_type": "code",
   "execution_count": 73,
   "metadata": {},
   "outputs": [
    {
     "data": {
      "text/html": [
       "<div>\n",
       "<style scoped>\n",
       "    .dataframe tbody tr th:only-of-type {\n",
       "        vertical-align: middle;\n",
       "    }\n",
       "\n",
       "    .dataframe tbody tr th {\n",
       "        vertical-align: top;\n",
       "    }\n",
       "\n",
       "    .dataframe thead th {\n",
       "        text-align: right;\n",
       "    }\n",
       "</style>\n",
       "<table border=\"1\" class=\"dataframe\">\n",
       "  <thead>\n",
       "    <tr style=\"text-align: right;\">\n",
       "      <th></th>\n",
       "      <th>Unnamed: 0</th>\n",
       "      <th>UCI</th>\n",
       "      <th>MIGRANTE</th>\n",
       "      <th>RESULTADO</th>\n",
       "      <th>OTRO_CASO</th>\n",
       "      <th>TABAQUISMO</th>\n",
       "      <th>RENAL_CRONICA</th>\n",
       "      <th>OBESIDAD</th>\n",
       "      <th>CARDIOVASCULAR</th>\n",
       "      <th>OTRAS_COM</th>\n",
       "      <th>...</th>\n",
       "      <th>FECHA_INGRESO</th>\n",
       "      <th>FECHA_SINTOMAS</th>\n",
       "      <th>FECHA_DEF</th>\n",
       "      <th>EDAD</th>\n",
       "      <th>PAIS_NACIONALIDAD</th>\n",
       "      <th>PAIS_ORIGEN</th>\n",
       "      <th>ABREVIATURA.x</th>\n",
       "      <th>ABREVIATURA.y</th>\n",
       "      <th>ABREVIATURA</th>\n",
       "      <th>CLAVE_ENTIDAD</th>\n",
       "    </tr>\n",
       "  </thead>\n",
       "  <tbody>\n",
       "    <tr>\n",
       "      <th>0</th>\n",
       "      <td>1</td>\n",
       "      <td>NO</td>\n",
       "      <td>NO ESPECIFICADO</td>\n",
       "      <td>No positivo SARS-CoV-2</td>\n",
       "      <td>NO</td>\n",
       "      <td>NO</td>\n",
       "      <td>SI</td>\n",
       "      <td>SI</td>\n",
       "      <td>NO</td>\n",
       "      <td>SI</td>\n",
       "      <td>...</td>\n",
       "      <td>2020-04-27</td>\n",
       "      <td>2020-04-26</td>\n",
       "      <td>2020-05-01</td>\n",
       "      <td>60</td>\n",
       "      <td>MÃ©xico</td>\n",
       "      <td>99</td>\n",
       "      <td>CS</td>\n",
       "      <td>CS</td>\n",
       "      <td>CS</td>\n",
       "      <td>7.0</td>\n",
       "    </tr>\n",
       "    <tr>\n",
       "      <th>1</th>\n",
       "      <td>2</td>\n",
       "      <td>NO</td>\n",
       "      <td>NO ESPECIFICADO</td>\n",
       "      <td>Positivo SARS-CoV-2</td>\n",
       "      <td>NO</td>\n",
       "      <td>NO</td>\n",
       "      <td>SI</td>\n",
       "      <td>NO</td>\n",
       "      <td>NO</td>\n",
       "      <td>NO</td>\n",
       "      <td>...</td>\n",
       "      <td>2020-06-22</td>\n",
       "      <td>2020-06-18</td>\n",
       "      <td>9999-99-99</td>\n",
       "      <td>70</td>\n",
       "      <td>MÃ©xico</td>\n",
       "      <td>99</td>\n",
       "      <td>DF</td>\n",
       "      <td>DF</td>\n",
       "      <td>DF</td>\n",
       "      <td>9.0</td>\n",
       "    </tr>\n",
       "    <tr>\n",
       "      <th>2</th>\n",
       "      <td>3</td>\n",
       "      <td>NO</td>\n",
       "      <td>NO ESPECIFICADO</td>\n",
       "      <td>Positivo SARS-CoV-2</td>\n",
       "      <td>NO</td>\n",
       "      <td>NO</td>\n",
       "      <td>NO</td>\n",
       "      <td>NO</td>\n",
       "      <td>NO</td>\n",
       "      <td>NO</td>\n",
       "      <td>...</td>\n",
       "      <td>2020-08-24</td>\n",
       "      <td>2020-08-21</td>\n",
       "      <td>9999-99-99</td>\n",
       "      <td>46</td>\n",
       "      <td>MÃ©xico</td>\n",
       "      <td>99</td>\n",
       "      <td>NT</td>\n",
       "      <td>NT</td>\n",
       "      <td>NT</td>\n",
       "      <td>18.0</td>\n",
       "    </tr>\n",
       "    <tr>\n",
       "      <th>3</th>\n",
       "      <td>4</td>\n",
       "      <td>NO</td>\n",
       "      <td>NO ESPECIFICADO</td>\n",
       "      <td>Positivo SARS-CoV-2</td>\n",
       "      <td>NO ESPECIFICADO</td>\n",
       "      <td>SI</td>\n",
       "      <td>NO</td>\n",
       "      <td>SI</td>\n",
       "      <td>NO</td>\n",
       "      <td>NO</td>\n",
       "      <td>...</td>\n",
       "      <td>2020-07-10</td>\n",
       "      <td>2020-07-08</td>\n",
       "      <td>2020-07-18</td>\n",
       "      <td>67</td>\n",
       "      <td>MÃ©xico</td>\n",
       "      <td>99</td>\n",
       "      <td>NT</td>\n",
       "      <td>NT</td>\n",
       "      <td>NT</td>\n",
       "      <td>18.0</td>\n",
       "    </tr>\n",
       "    <tr>\n",
       "      <th>4</th>\n",
       "      <td>5</td>\n",
       "      <td>NO</td>\n",
       "      <td>NO ESPECIFICADO</td>\n",
       "      <td>Positivo SARS-CoV-2</td>\n",
       "      <td>NO ESPECIFICADO</td>\n",
       "      <td>NO</td>\n",
       "      <td>NO</td>\n",
       "      <td>SE IGNORA</td>\n",
       "      <td>NO</td>\n",
       "      <td>NO</td>\n",
       "      <td>...</td>\n",
       "      <td>2020-04-28</td>\n",
       "      <td>2020-04-24</td>\n",
       "      <td>2020-04-30</td>\n",
       "      <td>63</td>\n",
       "      <td>MÃ©xico</td>\n",
       "      <td>99</td>\n",
       "      <td>MC</td>\n",
       "      <td>MC</td>\n",
       "      <td>MC</td>\n",
       "      <td>15.0</td>\n",
       "    </tr>\n",
       "  </tbody>\n",
       "</table>\n",
       "<p>5 rows × 40 columns</p>\n",
       "</div>"
      ],
      "text/plain": [
       "   Unnamed: 0 UCI         MIGRANTE               RESULTADO        OTRO_CASO  \\\n",
       "0           1  NO  NO ESPECIFICADO  No positivo SARS-CoV-2               NO   \n",
       "1           2  NO  NO ESPECIFICADO     Positivo SARS-CoV-2               NO   \n",
       "2           3  NO  NO ESPECIFICADO     Positivo SARS-CoV-2               NO   \n",
       "3           4  NO  NO ESPECIFICADO     Positivo SARS-CoV-2  NO ESPECIFICADO   \n",
       "4           5  NO  NO ESPECIFICADO     Positivo SARS-CoV-2  NO ESPECIFICADO   \n",
       "\n",
       "  TABAQUISMO RENAL_CRONICA   OBESIDAD CARDIOVASCULAR OTRAS_COM  ...  \\\n",
       "0         NO            SI         SI             NO        SI  ...   \n",
       "1         NO            SI         NO             NO        NO  ...   \n",
       "2         NO            NO         NO             NO        NO  ...   \n",
       "3         SI            NO         SI             NO        NO  ...   \n",
       "4         NO            NO  SE IGNORA             NO        NO  ...   \n",
       "\n",
       "  FECHA_INGRESO FECHA_SINTOMAS   FECHA_DEF EDAD PAIS_NACIONALIDAD PAIS_ORIGEN  \\\n",
       "0    2020-04-27     2020-04-26  2020-05-01   60           MÃ©xico          99   \n",
       "1    2020-06-22     2020-06-18  9999-99-99   70           MÃ©xico          99   \n",
       "2    2020-08-24     2020-08-21  9999-99-99   46           MÃ©xico          99   \n",
       "3    2020-07-10     2020-07-08  2020-07-18   67           MÃ©xico          99   \n",
       "4    2020-04-28     2020-04-24  2020-04-30   63           MÃ©xico          99   \n",
       "\n",
       "  ABREVIATURA.x ABREVIATURA.y ABREVIATURA CLAVE_ENTIDAD  \n",
       "0            CS            CS          CS           7.0  \n",
       "1            DF            DF          DF           9.0  \n",
       "2            NT            NT          NT          18.0  \n",
       "3            NT            NT          NT          18.0  \n",
       "4            MC            MC          MC          15.0  \n",
       "\n",
       "[5 rows x 40 columns]"
      ]
     },
     "execution_count": 73,
     "metadata": {},
     "output_type": "execute_result"
    }
   ],
   "source": [
    "df.head()"
   ]
  },
  {
   "cell_type": "code",
   "execution_count": 74,
   "metadata": {},
   "outputs": [],
   "source": [
    "df[\"FECHA_DEF\"] = pd.to_datetime(df.FECHA_DEF, errors = \"coerce\")"
   ]
  },
  {
   "cell_type": "code",
   "execution_count": 75,
   "metadata": {},
   "outputs": [
    {
     "data": {
      "text/plain": [
       "Unnamed: 0                   0\n",
       "UCI                          0\n",
       "MIGRANTE                     0\n",
       "RESULTADO                    0\n",
       "OTRO_CASO                    0\n",
       "TABAQUISMO                   0\n",
       "RENAL_CRONICA                0\n",
       "OBESIDAD                     0\n",
       "CARDIOVASCULAR               0\n",
       "OTRAS_COM                    0\n",
       "HIPERTENSION                 0\n",
       "INMUSUPR                     0\n",
       "ASMA                         0\n",
       "EPOC                         0\n",
       "DIABETES                     0\n",
       "HABLA_LENGUA_INDIG           0\n",
       "EMBARAZO                     0\n",
       "NACIONALIDAD                 0\n",
       "NEUMONIA                     0\n",
       "INTUBADO                     0\n",
       "TIPO_PACIENTE                0\n",
       "MUNICIPIO_RES                8\n",
       "ENTIDAD_RES                  0\n",
       "ENTIDAD_NAC                  0\n",
       "SEXO                         0\n",
       "ENTIDAD_UM                   0\n",
       "SECTOR                       0\n",
       "ORIGEN                       0\n",
       "FECHA_ACTUALIZACION          0\n",
       "ID_REGISTRO                  0\n",
       "FECHA_INGRESO                0\n",
       "FECHA_SINTOMAS               0\n",
       "FECHA_DEF              1457466\n",
       "EDAD                         0\n",
       "PAIS_NACIONALIDAD            0\n",
       "PAIS_ORIGEN                  0\n",
       "ABREVIATURA.x                0\n",
       "ABREVIATURA.y                0\n",
       "ABREVIATURA                  0\n",
       "CLAVE_ENTIDAD                8\n",
       "dtype: int64"
      ]
     },
     "execution_count": 75,
     "metadata": {},
     "output_type": "execute_result"
    }
   ],
   "source": [
    "df.isnull().sum()"
   ]
  },
  {
   "cell_type": "code",
   "execution_count": 76,
   "metadata": {},
   "outputs": [
    {
     "data": {
      "text/plain": [
       "No positivo SARS-CoV-2    789978\n",
       "Positivo SARS-CoV-2       684113\n",
       "Resultado pendiente        75552\n",
       "Name: RESULTADO, dtype: int64"
      ]
     },
     "execution_count": 76,
     "metadata": {},
     "output_type": "execute_result"
    }
   ],
   "source": [
    "df.RESULTADO.value_counts()"
   ]
  },
  {
   "cell_type": "code",
   "execution_count": 77,
   "metadata": {},
   "outputs": [],
   "source": [
    "df = df[df.RESULTADO == \"Positivo SARS-CoV-2\"]"
   ]
  },
  {
   "cell_type": "code",
   "execution_count": 79,
   "metadata": {},
   "outputs": [
    {
     "data": {
      "image/png": "[encoded data removed]",
      "text/plain": [
       "<Figure size 792x504 with 1 Axes>"
      ]
     },
     "metadata": {},
     "output_type": "display_data"
    }
   ],
   "source": [
    "plt.figure(figsize = (11, 7))\n",
    "df.FECHA_DEF.hist()\n",
    "plt.title(\"Defunciones por fecha\", fontsize = 20)\n",
    "plt.xlabel(\"Fecha\", fontsize = 20)\n",
    "plt.ylabel(\"Defunciones\", fontsize = 20)\n",
    "plt.show()"
   ]
  },
  {
   "cell_type": "code",
   "execution_count": 80,
   "metadata": {},
   "outputs": [
    {
     "data": {
      "text/plain": [
       "count                   72179\n",
       "unique                    181\n",
       "top       2020-07-06 00:00:00\n",
       "freq                      718\n",
       "first     2020-03-18 00:00:00\n",
       "last      2020-09-16 00:00:00\n",
       "Name: FECHA_DEF, dtype: object"
      ]
     },
     "execution_count": 80,
     "metadata": {},
     "output_type": "execute_result"
    }
   ],
   "source": [
    "df.FECHA_DEF.describe()"
   ]
  },
  {
   "cell_type": "code",
   "execution_count": 81,
   "metadata": {},
   "outputs": [],
   "source": [
    "df[\"Días antes de fallecimiento\"] = (df.FECHA_DEF - df.FECHA_SINTOMAS).dt.days"
   ]
  },
  {
   "cell_type": "code",
   "execution_count": 82,
   "metadata": {},
   "outputs": [
    {
     "data": {
      "text/html": [
       "<div>\n",
       "<style scoped>\n",
       "    .dataframe tbody tr th:only-of-type {\n",
       "        vertical-align: middle;\n",
       "    }\n",
       "\n",
       "    .dataframe tbody tr th {\n",
       "        vertical-align: top;\n",
       "    }\n",
       "\n",
       "    .dataframe thead th {\n",
       "        text-align: right;\n",
       "    }\n",
       "</style>\n",
       "<table border=\"1\" class=\"dataframe\">\n",
       "  <thead>\n",
       "    <tr style=\"text-align: right;\">\n",
       "      <th></th>\n",
       "      <th>RESULTADO</th>\n",
       "    </tr>\n",
       "    <tr>\n",
       "      <th>Días antes de fallecimiento</th>\n",
       "      <th></th>\n",
       "    </tr>\n",
       "  </thead>\n",
       "  <tbody>\n",
       "    <tr>\n",
       "      <th>0.0</th>\n",
       "      <td>457</td>\n",
       "    </tr>\n",
       "    <tr>\n",
       "      <th>1.0</th>\n",
       "      <td>1016</td>\n",
       "    </tr>\n",
       "    <tr>\n",
       "      <th>2.0</th>\n",
       "      <td>1635</td>\n",
       "    </tr>\n",
       "    <tr>\n",
       "      <th>3.0</th>\n",
       "      <td>2326</td>\n",
       "    </tr>\n",
       "    <tr>\n",
       "      <th>4.0</th>\n",
       "      <td>3155</td>\n",
       "    </tr>\n",
       "    <tr>\n",
       "      <th>5.0</th>\n",
       "      <td>3761</td>\n",
       "    </tr>\n",
       "    <tr>\n",
       "      <th>6.0</th>\n",
       "      <td>4073</td>\n",
       "    </tr>\n",
       "    <tr>\n",
       "      <th>7.0</th>\n",
       "      <td>4454</td>\n",
       "    </tr>\n",
       "    <tr>\n",
       "      <th>8.0</th>\n",
       "      <td>4420</td>\n",
       "    </tr>\n",
       "    <tr>\n",
       "      <th>9.0</th>\n",
       "      <td>4374</td>\n",
       "    </tr>\n",
       "    <tr>\n",
       "      <th>10.0</th>\n",
       "      <td>4235</td>\n",
       "    </tr>\n",
       "    <tr>\n",
       "      <th>11.0</th>\n",
       "      <td>3834</td>\n",
       "    </tr>\n",
       "    <tr>\n",
       "      <th>12.0</th>\n",
       "      <td>3701</td>\n",
       "    </tr>\n",
       "    <tr>\n",
       "      <th>13.0</th>\n",
       "      <td>3368</td>\n",
       "    </tr>\n",
       "    <tr>\n",
       "      <th>14.0</th>\n",
       "      <td>3081</td>\n",
       "    </tr>\n",
       "    <tr>\n",
       "      <th>15.0</th>\n",
       "      <td>2926</td>\n",
       "    </tr>\n",
       "    <tr>\n",
       "      <th>16.0</th>\n",
       "      <td>2637</td>\n",
       "    </tr>\n",
       "    <tr>\n",
       "      <th>17.0</th>\n",
       "      <td>2223</td>\n",
       "    </tr>\n",
       "    <tr>\n",
       "      <th>18.0</th>\n",
       "      <td>2052</td>\n",
       "    </tr>\n",
       "    <tr>\n",
       "      <th>19.0</th>\n",
       "      <td>1867</td>\n",
       "    </tr>\n",
       "    <tr>\n",
       "      <th>20.0</th>\n",
       "      <td>1698</td>\n",
       "    </tr>\n",
       "    <tr>\n",
       "      <th>21.0</th>\n",
       "      <td>1361</td>\n",
       "    </tr>\n",
       "    <tr>\n",
       "      <th>22.0</th>\n",
       "      <td>1216</td>\n",
       "    </tr>\n",
       "    <tr>\n",
       "      <th>23.0</th>\n",
       "      <td>1069</td>\n",
       "    </tr>\n",
       "    <tr>\n",
       "      <th>24.0</th>\n",
       "      <td>935</td>\n",
       "    </tr>\n",
       "    <tr>\n",
       "      <th>25.0</th>\n",
       "      <td>799</td>\n",
       "    </tr>\n",
       "    <tr>\n",
       "      <th>26.0</th>\n",
       "      <td>687</td>\n",
       "    </tr>\n",
       "    <tr>\n",
       "      <th>27.0</th>\n",
       "      <td>611</td>\n",
       "    </tr>\n",
       "    <tr>\n",
       "      <th>28.0</th>\n",
       "      <td>489</td>\n",
       "    </tr>\n",
       "    <tr>\n",
       "      <th>29.0</th>\n",
       "      <td>441</td>\n",
       "    </tr>\n",
       "    <tr>\n",
       "      <th>...</th>\n",
       "      <td>...</td>\n",
       "    </tr>\n",
       "    <tr>\n",
       "      <th>71.0</th>\n",
       "      <td>8</td>\n",
       "    </tr>\n",
       "    <tr>\n",
       "      <th>72.0</th>\n",
       "      <td>2</td>\n",
       "    </tr>\n",
       "    <tr>\n",
       "      <th>73.0</th>\n",
       "      <td>5</td>\n",
       "    </tr>\n",
       "    <tr>\n",
       "      <th>74.0</th>\n",
       "      <td>6</td>\n",
       "    </tr>\n",
       "    <tr>\n",
       "      <th>75.0</th>\n",
       "      <td>3</td>\n",
       "    </tr>\n",
       "    <tr>\n",
       "      <th>76.0</th>\n",
       "      <td>3</td>\n",
       "    </tr>\n",
       "    <tr>\n",
       "      <th>77.0</th>\n",
       "      <td>3</td>\n",
       "    </tr>\n",
       "    <tr>\n",
       "      <th>78.0</th>\n",
       "      <td>4</td>\n",
       "    </tr>\n",
       "    <tr>\n",
       "      <th>80.0</th>\n",
       "      <td>1</td>\n",
       "    </tr>\n",
       "    <tr>\n",
       "      <th>82.0</th>\n",
       "      <td>1</td>\n",
       "    </tr>\n",
       "    <tr>\n",
       "      <th>83.0</th>\n",
       "      <td>4</td>\n",
       "    </tr>\n",
       "    <tr>\n",
       "      <th>84.0</th>\n",
       "      <td>1</td>\n",
       "    </tr>\n",
       "    <tr>\n",
       "      <th>90.0</th>\n",
       "      <td>1</td>\n",
       "    </tr>\n",
       "    <tr>\n",
       "      <th>91.0</th>\n",
       "      <td>1</td>\n",
       "    </tr>\n",
       "    <tr>\n",
       "      <th>93.0</th>\n",
       "      <td>2</td>\n",
       "    </tr>\n",
       "    <tr>\n",
       "      <th>96.0</th>\n",
       "      <td>2</td>\n",
       "    </tr>\n",
       "    <tr>\n",
       "      <th>97.0</th>\n",
       "      <td>1</td>\n",
       "    </tr>\n",
       "    <tr>\n",
       "      <th>98.0</th>\n",
       "      <td>2</td>\n",
       "    </tr>\n",
       "    <tr>\n",
       "      <th>99.0</th>\n",
       "      <td>1</td>\n",
       "    </tr>\n",
       "    <tr>\n",
       "      <th>101.0</th>\n",
       "      <td>2</td>\n",
       "    </tr>\n",
       "    <tr>\n",
       "      <th>102.0</th>\n",
       "      <td>2</td>\n",
       "    </tr>\n",
       "    <tr>\n",
       "      <th>106.0</th>\n",
       "      <td>1</td>\n",
       "    </tr>\n",
       "    <tr>\n",
       "      <th>110.0</th>\n",
       "      <td>1</td>\n",
       "    </tr>\n",
       "    <tr>\n",
       "      <th>111.0</th>\n",
       "      <td>1</td>\n",
       "    </tr>\n",
       "    <tr>\n",
       "      <th>114.0</th>\n",
       "      <td>1</td>\n",
       "    </tr>\n",
       "    <tr>\n",
       "      <th>118.0</th>\n",
       "      <td>1</td>\n",
       "    </tr>\n",
       "    <tr>\n",
       "      <th>131.0</th>\n",
       "      <td>1</td>\n",
       "    </tr>\n",
       "    <tr>\n",
       "      <th>139.0</th>\n",
       "      <td>1</td>\n",
       "    </tr>\n",
       "    <tr>\n",
       "      <th>147.0</th>\n",
       "      <td>1</td>\n",
       "    </tr>\n",
       "    <tr>\n",
       "      <th>186.0</th>\n",
       "      <td>1</td>\n",
       "    </tr>\n",
       "  </tbody>\n",
       "</table>\n",
       "<p>101 rows × 1 columns</p>\n",
       "</div>"
      ],
      "text/plain": [
       "                             RESULTADO\n",
       "Días antes de fallecimiento           \n",
       "0.0                                457\n",
       "1.0                               1016\n",
       "2.0                               1635\n",
       "3.0                               2326\n",
       "4.0                               3155\n",
       "5.0                               3761\n",
       "6.0                               4073\n",
       "7.0                               4454\n",
       "8.0                               4420\n",
       "9.0                               4374\n",
       "10.0                              4235\n",
       "11.0                              3834\n",
       "12.0                              3701\n",
       "13.0                              3368\n",
       "14.0                              3081\n",
       "15.0                              2926\n",
       "16.0                              2637\n",
       "17.0                              2223\n",
       "18.0                              2052\n",
       "19.0                              1867\n",
       "20.0                              1698\n",
       "21.0                              1361\n",
       "22.0                              1216\n",
       "23.0                              1069\n",
       "24.0                               935\n",
       "25.0                               799\n",
       "26.0                               687\n",
       "27.0                               611\n",
       "28.0                               489\n",
       "29.0                               441\n",
       "...                                ...\n",
       "71.0                                 8\n",
       "72.0                                 2\n",
       "73.0                                 5\n",
       "74.0                                 6\n",
       "75.0                                 3\n",
       "76.0                                 3\n",
       "77.0                                 3\n",
       "78.0                                 4\n",
       "80.0                                 1\n",
       "82.0                                 1\n",
       "83.0                                 4\n",
       "84.0                                 1\n",
       "90.0                                 1\n",
       "91.0                                 1\n",
       "93.0                                 2\n",
       "96.0                                 2\n",
       "97.0                                 1\n",
       "98.0                                 2\n",
       "99.0                                 1\n",
       "101.0                                2\n",
       "102.0                                2\n",
       "106.0                                1\n",
       "110.0                                1\n",
       "111.0                                1\n",
       "114.0                                1\n",
       "118.0                                1\n",
       "131.0                                1\n",
       "139.0                                1\n",
       "147.0                                1\n",
       "186.0                                1\n",
       "\n",
       "[101 rows x 1 columns]"
      ]
     },
     "execution_count": 82,
     "metadata": {},
     "output_type": "execute_result"
    }
   ],
   "source": [
    "conteo_dias = df[[\"Días antes de fallecimiento\", \"RESULTADO\"]].groupby([\"Días antes de fallecimiento\"]).count()\n",
    "conteo_dias"
   ]
  },
  {
   "cell_type": "code",
   "execution_count": 83,
   "metadata": {},
   "outputs": [
    {
     "data": {
      "image/png": "[encoded data removed]",
      "text/plain": [
       "<Figure size 792x504 with 1 Axes>"
      ]
     },
     "metadata": {},
     "output_type": "display_data"
    }
   ],
   "source": [
    "plt.figure(figsize = (11, 7))\n",
    "df[\"Días antes de fallecimiento\"].hist()\n",
    "plt.title(\"Temperatura Ambiental promedio diaria\", fontsize = 20)\n",
    "plt.xlabel(\"Días antes de fallecimiento\", fontsize = 20)\n",
    "plt.ylabel(\"Número de fallecimientos\", fontsize = 20)\n",
    "plt.show();"
   ]
  },
  {
   "cell_type": "code",
   "execution_count": null,
   "metadata": {},
   "outputs": [],
   "source": [
    "#Críterio"
   ]
  },
  {
   "cell_type": "code",
   "execution_count": 84,
   "metadata": {},
   "outputs": [
    {
     "data": {
      "image/png": "[encoded data removed]",
      "text/plain": [
       "<Figure size 792x504 with 1 Axes>"
      ]
     },
     "metadata": {},
     "output_type": "display_data"
    }
   ],
   "source": [
    "plt.figure(figsize = (11, 7))\n",
    "df[\"Días antes de fallecimiento\"][df[\"Días antes de fallecimiento\"] < 50].hist()\n",
    "plt.title(\"Temperatura Ambiental promedio diaria\", fontsize = 20)\n",
    "plt.xlabel(\"Días antes de fallecimiento\", fontsize = 20)\n",
    "plt.ylabel(\"Número de fallecimientos\", fontsize = 20)\n",
    "plt.show();"
   ]
  },
  {
   "cell_type": "code",
   "execution_count": 89,
   "metadata": {},
   "outputs": [
    {
     "data": {
      "text/plain": [
       "340"
      ]
     },
     "execution_count": 89,
     "metadata": {},
     "output_type": "execute_result"
    }
   ],
   "source": [
    "df[~df.FECHA_DEF.isnull()].shape[0] - df[\"Días antes de fallecimiento\"][df[\"Días antes de fallecimiento\"] < 50].shape[0]"
   ]
  },
  {
   "cell_type": "code",
   "execution_count": 90,
   "metadata": {},
   "outputs": [
    {
     "data": {
      "text/plain": [
       "0.0004969939176714958"
      ]
     },
     "execution_count": 90,
     "metadata": {},
     "output_type": "execute_result"
    }
   ],
   "source": [
    "(df[~df.FECHA_DEF.isnull()].shape[0]  - df[\"Días antes de fallecimiento\"][df[\"Días antes de fallecimiento\"] < 50].shape[0])/df.shape[0]"
   ]
  },
  {
   "cell_type": "code",
   "execution_count": 44,
   "metadata": {},
   "outputs": [],
   "source": [
    "### Medidas de tendencia central"
   ]
  },
  {
   "cell_type": "code",
   "execution_count": 91,
   "metadata": {},
   "outputs": [
    {
     "data": {
      "text/plain": [
       "12.852782665318168"
      ]
     },
     "execution_count": 91,
     "metadata": {},
     "output_type": "execute_result"
    }
   ],
   "source": [
    "df[\"Días antes de fallecimiento\"].mean()"
   ]
  },
  {
   "cell_type": "code",
   "execution_count": 92,
   "metadata": {},
   "outputs": [
    {
     "data": {
      "text/plain": [
       "11.0"
      ]
     },
     "execution_count": 92,
     "metadata": {},
     "output_type": "execute_result"
    }
   ],
   "source": [
    "df[\"Días antes de fallecimiento\"].median()"
   ]
  },
  {
   "cell_type": "code",
   "execution_count": 93,
   "metadata": {},
   "outputs": [
    {
     "data": {
      "text/plain": [
       "12.617352691435014"
      ]
     },
     "execution_count": 93,
     "metadata": {},
     "output_type": "execute_result"
    }
   ],
   "source": [
    "df[\"Días antes de fallecimiento\"][df[\"Días antes de fallecimiento\"] < 50].mean()"
   ]
  },
  {
   "cell_type": "code",
   "execution_count": 94,
   "metadata": {},
   "outputs": [
    {
     "data": {
      "text/plain": [
       "11.0"
      ]
     },
     "execution_count": 94,
     "metadata": {},
     "output_type": "execute_result"
    }
   ],
   "source": [
    "df[\"Días antes de fallecimiento\"][df[\"Días antes de fallecimiento\"] < 50].median()"
   ]
  },
  {
   "cell_type": "code",
   "execution_count": 95,
   "metadata": {},
   "outputs": [
    {
     "data": {
      "image/png": "[encoded data removed]",
      "text/plain": [
       "<Figure size 792x504 with 1 Axes>"
      ]
     },
     "metadata": {},
     "output_type": "display_data"
    }
   ],
   "source": [
    "plt.figure(figsize = (11, 7))\n",
    "df[\"Días antes de fallecimiento\"][df[\"Días antes de fallecimiento\"] < 20].hist()\n",
    "plt.title(\"Temperatura Ambiental promedio diaria\", fontsize = 20)\n",
    "plt.xlabel(\"Días antes de fallecimiento\", fontsize = 20)\n",
    "plt.ylabel(\"Número de fallecimientos\", fontsize = 20)\n",
    "plt.show();"
   ]
  },
  {
   "cell_type": "code",
   "execution_count": 96,
   "metadata": {},
   "outputs": [
    {
     "data": {
      "text/plain": [
       "9.819062001845792"
      ]
     },
     "execution_count": 96,
     "metadata": {},
     "output_type": "execute_result"
    }
   ],
   "source": [
    "df[\"Días antes de fallecimiento\"][df[\"Días antes de fallecimiento\"] < 20].mean()"
   ]
  },
  {
   "cell_type": "code",
   "execution_count": 97,
   "metadata": {},
   "outputs": [
    {
     "data": {
      "text/plain": [
       "10.0"
      ]
     },
     "execution_count": 97,
     "metadata": {},
     "output_type": "execute_result"
    }
   ],
   "source": [
    "df[\"Días antes de fallecimiento\"][df[\"Días antes de fallecimiento\"] < 20].median()"
   ]
  },
  {
   "cell_type": "code",
   "execution_count": 98,
   "metadata": {},
   "outputs": [
    {
     "data": {
      "text/plain": [
       "Unnamed: 0                          0\n",
       "UCI                                 0\n",
       "MIGRANTE                            0\n",
       "RESULTADO                           0\n",
       "OTRO_CASO                           0\n",
       "TABAQUISMO                          0\n",
       "RENAL_CRONICA                       0\n",
       "OBESIDAD                            0\n",
       "CARDIOVASCULAR                      0\n",
       "OTRAS_COM                           0\n",
       "HIPERTENSION                        0\n",
       "INMUSUPR                            0\n",
       "ASMA                                0\n",
       "EPOC                                0\n",
       "DIABETES                            0\n",
       "HABLA_LENGUA_INDIG                  0\n",
       "EMBARAZO                            0\n",
       "NACIONALIDAD                        0\n",
       "NEUMONIA                            0\n",
       "INTUBADO                            0\n",
       "TIPO_PACIENTE                       0\n",
       "MUNICIPIO_RES                       5\n",
       "ENTIDAD_RES                         0\n",
       "ENTIDAD_NAC                         0\n",
       "SEXO                                0\n",
       "ENTIDAD_UM                          0\n",
       "SECTOR                              0\n",
       "ORIGEN                              0\n",
       "FECHA_ACTUALIZACION                 0\n",
       "ID_REGISTRO                         0\n",
       "FECHA_INGRESO                       0\n",
       "FECHA_SINTOMAS                      0\n",
       "FECHA_DEF                      611934\n",
       "EDAD                                0\n",
       "PAIS_NACIONALIDAD                   0\n",
       "PAIS_ORIGEN                         0\n",
       "ABREVIATURA.x                       0\n",
       "ABREVIATURA.y                       0\n",
       "ABREVIATURA                         0\n",
       "CLAVE_ENTIDAD                       5\n",
       "Días antes de fallecimiento    611934\n",
       "dtype: int64"
      ]
     },
     "execution_count": 98,
     "metadata": {},
     "output_type": "execute_result"
    }
   ],
   "source": [
    "df.isnull().sum()"
   ]
  },
  {
   "cell_type": "code",
   "execution_count": 59,
   "metadata": {},
   "outputs": [],
   "source": [
    "# Rango intercuartil"
   ]
  },
  {
   "cell_type": "code",
   "execution_count": 99,
   "metadata": {},
   "outputs": [
    {
     "name": "stderr",
     "output_type": "stream",
     "text": [
      "/home/a_tellez/virtualenvs/python3/lib/python3.6/site-packages/numpy/lib/function_base.py:3652: RuntimeWarning: Invalid value encountered in percentile\n",
      "  interpolation=interpolation)\n"
     ]
    },
    {
     "data": {
      "text/plain": [
       "nan"
      ]
     },
     "execution_count": 99,
     "metadata": {},
     "output_type": "execute_result"
    }
   ],
   "source": [
    "q1, q3 = np.quantile(df[\"Días antes de fallecimiento\"], 0.25), np.quantile(df[\"Días antes de fallecimiento\"], 0.75)\n",
    "q1"
   ]
  },
  {
   "cell_type": "code",
   "execution_count": 100,
   "metadata": {},
   "outputs": [],
   "source": [
    "df_aux = df[~df.FECHA_DEF.isnull()]"
   ]
  },
  {
   "cell_type": "code",
   "execution_count": 102,
   "metadata": {},
   "outputs": [
    {
     "data": {
      "text/plain": [
       "7.0"
      ]
     },
     "execution_count": 102,
     "metadata": {},
     "output_type": "execute_result"
    }
   ],
   "source": [
    "q1, q3 = np.quantile(df_aux[\"Días antes de fallecimiento\"], 0.25), np.quantile(df_aux[\"Días antes de fallecimiento\"], 0.75)\n",
    "q1"
   ]
  },
  {
   "cell_type": "code",
   "execution_count": 103,
   "metadata": {},
   "outputs": [
    {
     "name": "stdout",
     "output_type": "stream",
     "text": [
      "7.0 17.0\n"
     ]
    }
   ],
   "source": [
    "print(q1, q3)"
   ]
  },
  {
   "cell_type": "code",
   "execution_count": 104,
   "metadata": {},
   "outputs": [],
   "source": [
    "iqr = q3 - q1"
   ]
  },
  {
   "cell_type": "code",
   "execution_count": 106,
   "metadata": {},
   "outputs": [
    {
     "data": {
      "text/plain": [
       "<matplotlib.axes._subplots.AxesSubplot at 0x7fe4b9b8f630>"
      ]
     },
     "execution_count": 106,
     "metadata": {},
     "output_type": "execute_result"
    },
    {
     "data": {
      "image/png": "[encoded data removed]",
      "text/plain": [
       "<Figure size 432x288 with 1 Axes>"
      ]
     },
     "metadata": {},
     "output_type": "display_data"
    }
   ],
   "source": [
    "df_aux[(df_aux[\"Días antes de fallecimiento\"] > (q1 - 1.5 * iqr) ) & (df_aux[\"Días antes de fallecimiento\"] < (q3 + 1.5 * iqr) )][\"Días antes de fallecimiento\"].hist()"
   ]
  },
  {
   "cell_type": "code",
   "execution_count": null,
   "metadata": {},
   "outputs": [],
   "source": []
  },
  {
   "cell_type": "code",
   "execution_count": null,
   "metadata": {},
   "outputs": [],
   "source": []
  },
  {
   "cell_type": "code",
   "execution_count": null,
   "metadata": {},
   "outputs": [],
   "source": []
  },
  {
   "cell_type": "code",
   "execution_count": null,
   "metadata": {},
   "outputs": [],
   "source": []
  },
  {
   "cell_type": "code",
   "execution_count": null,
   "metadata": {},
   "outputs": [],
   "source": []
  },
  {
   "cell_type": "code",
   "execution_count": null,
   "metadata": {},
   "outputs": [],
   "source": []
  },
  {
   "cell_type": "code",
   "execution_count": null,
   "metadata": {},
   "outputs": [],
   "source": []
  }
 ],
 "metadata": {
  "kernelspec": {
   "display_name": "Python 3",
   "language": "python",
   "name": "python3"
  },
  "language_info": {
   "codemirror_mode": {
    "name": "ipython",
    "version": 3
   },
   "file_extension": ".py",
   "mimetype": "text/x-python",
   "name": "python",
   "nbconvert_exporter": "python",
   "pygments_lexer": "ipython3",
   "version": "3.6.9"
  }
 },
 "nbformat": 4,
 "nbformat_minor": 4
}
